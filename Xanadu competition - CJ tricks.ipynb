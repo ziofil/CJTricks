{
 "cells": [
  {
   "cell_type": "markdown",
   "metadata": {},
   "source": [
    "# Xanadu 2019 challenge - The Choi-Jamiolkowsky isomorphism at work\n",
    "\n",
    "#### Submission by Filippo Miatto (Télécom Paris, Institut Polytechnique de Paris) and Alessandro Luongo (IRIF)\n"
   ]
  },
  {
   "cell_type": "markdown",
   "metadata": {},
   "source": [
    "### Abstract\n",
    "\n",
    "In this notebook we'll see how to use the [Choi-Jamiolkowsky isomorphism](http://mattleifer.info/2011/08/01/the-choi-jamiolkowski-isomorphism-youre-doing-it-wrong/) in [Strawberry Fields](https://strawberryfields.readthedocs.io/en/latest/),to obtain a numerical representation of a (unitary or non-unitary) quantum channel.\n",
    "This functionality was implemented starting from version v0.10.0."
   ]
  },
  {
   "cell_type": "markdown",
   "metadata": {},
   "source": [
    "Let's start by importing a few components, and checking we have the correct version of Strawberry Fields."
   ]
  },
  {
   "cell_type": "code",
   "execution_count": 30,
   "metadata": {},
   "outputs": [],
   "source": [
    "import numpy as np\n",
    "\n",
    "import strawberryfields as sf\n",
    "from strawberryfields import ops\n",
    "import strawberryfields.utils as utils\n",
    "\n",
    "from matplotlib import pyplot as plt\n",
    "\n",
    "# For prettier printing of numpy arrays\n",
    "np.set_printoptions(linewidth=150, precision=5, suppress=True)"
   ]
  },
  {
   "cell_type": "code",
   "execution_count": 31,
   "metadata": {},
   "outputs": [
    {
     "data": {
      "text/plain": [
       "'0.11.1'"
      ]
     },
     "execution_count": 31,
     "metadata": {},
     "output_type": "execute_result"
    }
   ],
   "source": [
    "sf.__version__"
   ]
  },
  {
   "cell_type": "markdown",
   "metadata": {},
   "source": [
    "# Introduction\n",
    "It is often really helpful to think about linear algebra in terms of tensor indices. In this language, we can think of a scalar $s$ as a tensor with no indices, a vector $v_i$ as a tensor with one index, a matrix $M_{ij}$ as a tensor with two indices, and so on. The number of indices is called the _rank_ of the tensor. Multiplication among these objects is achieved by \"contracting\" the indices, e.g. $y_i = \\sum_j A_{ij}x_j$ is the contraction of the second index of $A$ and the first (and only) index of $x$, which corresponds to the matrix-vector product between the matrix $A$ and the vector $x$. \n",
    "\n",
    "Quantum mechanics is largely modeled using linear algebra, so we can use tensor index notation to express several concepts related to the evolution of quantum systems. For instance, a quantum state $|\\psi\\rangle_A$ on a single mode can be described by a tensor with a single index $\\psi_i$. Analogously, a quantum state on two modes $|\\psi\\rangle_{AB}$ is a tensor with two indices $\\psi_{ij}$ and so on. \n",
    "\n",
    "\n",
    "We will see below that state transformations (unitary and non-unitary) can also be expressed as tensors of appropriate rank. This representation is used within Strawberry Field to compute quantum states and their evolution numerically, whether for unitary evolution (for pure states), or more general quantum channels (for density matrices).\n",
    "\n",
    "\n",
    "WARNING: From now on, we omit the summation symbol and adopt the convention that _repeated indices are summed over_: for example $A_{ij}x_j$ means $\\sum_j A_{ij}x_j$."
   ]
  },
  {
   "cell_type": "markdown",
   "metadata": {},
   "source": [
    "# Unitary Channels\n",
    "\n",
    "## Single-mode example: squeezing and displacement\n",
    "We will first look at the simple case where the channel is just a unitary transformation, as in $\\phi_i = U_{ij}\\psi_j$, in which case we want to obtain the unitary matrix $U$.\n",
    "\n",
    "For this, we will need 2 copies of the same mode `A`, the space where the vector $\\psi_j$ lives (and on which $U$ operates). In Strawberry Fields, we can do so by creating a `Program` object with 2 subsystems:"
   ]
  },
  {
   "cell_type": "code",
   "execution_count": 32,
   "metadata": {},
   "outputs": [],
   "source": [
    "prog = sf.Program(num_subsystems=2)\n",
    "dim = 20 # dimension that we will use for our Hilbert spaces"
   ]
  },
  {
   "cell_type": "markdown",
   "metadata": {},
   "source": [
    "The trick used to estimate a unitary channel $U$ is the following: \n",
    "\n",
    " $$U_{ij}I_{jk} = U_{ik}$$ (where $I$ is the identity matrix). This may look silly (why would we act on the identity to obtain $U$ if we have $U$ in the first place?), but the issue that we need to get around is that in Strawberry Fields we don't have an explicit numerical representation of the channel, rather we have a list of operations that - once a backend is chosen - will be applied to the input state to transform it to the desired output state. Hence, we call this the \"identity trick\".\n",
    " \n",
    "Ae need to tell the engine to operate with $U$ on one of the two indices of $I$, we need two copies of $\\mathcal{H}$: we are going to use one per index."
   ]
  },
  {
   "cell_type": "code",
   "execution_count": 33,
   "metadata": {},
   "outputs": [],
   "source": [
    "I = np.identity(dim)\n",
    "with prog.context as q:\n",
    "    ops.Ket(I) | (q[0], q[1])"
   ]
  },
  {
   "cell_type": "markdown",
   "metadata": {},
   "source": [
    "\n",
    "What happened here is that we have tricked the numerical engine to interpret the identity matrix as the collection of amplitudes of a _state on two_ modes. As the identity matrix contains 1's on the diagonal, the state that it defines has amplitude 1 when the basis elements in the two spaces are the same and zero otherwise: \n",
    "$$I_{ij} \\simeq \\sum_{i,j=1}^\\mathrm{dim} I_{ij}|i,j\\rangle = \\sum_{i=1}^\\mathrm{dim} |i,i\\rangle$$\n",
    "(which incidentally is the unnormalized $dim$-dimensional Bell state $|\\phi^+\\rangle$).\n",
    "\n",
    "In conclusion, applying the unitary to one of the two subsystems is therefore equivalent to multiplying it by the identity matrix $U_{ij}I_{jk}$: the result will be $U_{ik}$ which Strawberry Fields interprets as a state on two modes (because of the two indices), but we know it is really a unitary matrix.\n",
    "\n",
    "\n",
    "\n",
    "Let's see how this is done in Strawberry Fields, by extracting the unitary of a Squeezing gate:"
   ]
  },
  {
   "cell_type": "code",
   "execution_count": 34,
   "metadata": {},
   "outputs": [],
   "source": [
    "# continued from above\n",
    "with prog.context as q:\n",
    "    ops.Sgate(1.5) | q[0]\n",
    "    \n",
    "eng = sf.LocalEngine(backend='fock', backend_options={'cutoff_dim': dim})\n",
    "\n",
    "U = eng.run(prog).state.data"
   ]
  },
  {
   "cell_type": "markdown",
   "metadata": {},
   "source": [
    "Let's plot the absolute value of its entries. You'll notice the typical \"checkerboard pattern\" that is associated with squeezing number states:"
   ]
  },
  {
   "cell_type": "code",
   "execution_count": 35,
   "metadata": {},
   "outputs": [
    {
     "data": {
      "image/png": "[encoded data removed]",
      "text/plain": [
       "<Figure size 288x288 with 1 Axes>"
      ]
     },
     "metadata": {
      "needs_background": "light"
     },
     "output_type": "display_data"
    }
   ],
   "source": [
    "plt.matshow(np.abs(U));"
   ]
  },
  {
   "cell_type": "markdown",
   "metadata": {},
   "source": [
    "Here's an analogous example with the displacement operator:"
   ]
  },
  {
   "cell_type": "code",
   "execution_count": 36,
   "metadata": {},
   "outputs": [
    {
     "data": {
      "image/png": "[encoded data removed]",
      "text/plain": [
       "<Figure size 288x288 with 1 Axes>"
      ]
     },
     "metadata": {
      "needs_background": "light"
     },
     "output_type": "display_data"
    }
   ],
   "source": [
    "prog = sf.Program(num_subsystems=2)\n",
    "dim = 20\n",
    "I = np.identity(dim)\n",
    "\n",
    "with prog.context as q:\n",
    "    ops.Ket(I) | q\n",
    "    ops.Dgate(1.5) | q[0]\n",
    "\n",
    "eng = sf.LocalEngine(backend='fock', backend_options={'cutoff_dim': dim})\n",
    "U = eng.run(prog).state.data\n",
    "\n",
    "plt.matshow(np.real(U));"
   ]
  },
  {
   "cell_type": "markdown",
   "metadata": {},
   "source": [
    "Obviously, this works also when the unitary that we want to obtain already operates on more than a single Hilbert space, as we will see in the next subsection. Let's use the Strawberry Field function *extract_unitary* which is located in the utils module: behind the scenes it actually implements this trick."
   ]
  },
  {
   "cell_type": "code",
   "execution_count": 37,
   "metadata": {},
   "outputs": [],
   "source": [
    "from strawberryfields.utils import extract_unitary"
   ]
  },
  {
   "cell_type": "code",
   "execution_count": 38,
   "metadata": {},
   "outputs": [
    {
     "data": {
      "text/plain": [
       "True"
      ]
     },
     "execution_count": 38,
     "metadata": {},
     "output_type": "execute_result"
    }
   ],
   "source": [
    "prog = sf.Program(num_subsystems=1)\n",
    "\n",
    "with prog.context as q:\n",
    "    ops.Dgate(1.5) | q[0]\n",
    "    \n",
    "U_ = utils.extract_unitary(prog, cutoff_dim=dim, backend='fock')\n",
    "\n",
    "np.allclose(U, U_) "
   ]
  },
  {
   "cell_type": "markdown",
   "metadata": {},
   "source": [
    "## Multi-mode example: beamsplitter\n",
    "\n",
    "The Hong-Ou-Mandel effect is an example of destructive interference in quantum optics that occours when two photons interfere in a 1:1 beamsplitter. If they are identical in their physical properties, they will always exit the beam splitter in the same mode.\n",
    "\n",
    "\n",
    "Here we demonstrate the Hong-Ou-Mandel effect in an unusual way, i.e. by only looking at the unitary operator of the beamsplitter.\n",
    "\n",
    "We begin by extracting the unitary of a beamsplitter, up to dimension 3 (i.e. for states of up to 2 photons). This is a unitary that acts on two modes, and therefore it has 4 indices: the first pair are output-input indices on the first mode and the second pair are output-input indices on the second mode."
   ]
  },
  {
   "cell_type": "code",
   "execution_count": 39,
   "metadata": {},
   "outputs": [],
   "source": [
    "prog = sf.Program(num_subsystems=4)\n",
    "\n",
    "dim = 3\n",
    "I = np.identity(dim)\n",
    "II = np.einsum('ab,cd', I, I) # outer product I_{ab}I_{cd} \n",
    "\n",
    "with prog.context as q:\n",
    "    ops.Ket(II) | q\n",
    "    ops.BSgate(np.pi/4) | (q[0], q[2]) # the parameter pi/4 leads to the 50/50 beamsplitter\n",
    "\n",
    "eng = sf.LocalEngine(backend='fock', backend_options={'cutoff_dim': dim})\n",
    "U = eng.run(prog).state.data"
   ]
  },
  {
   "cell_type": "markdown",
   "metadata": {},
   "source": [
    "Here we have computed $U_{ia,kc}I_{ab}I_{cd} = U_{ib,kd}$, where $i$ and $k$ are the output indices of the beamsplitter transformation. So let's apply the beamsplitter transformation to a state that has a single photon in each mode (using the _input_ indices $b$ and $d$):"
   ]
  },
  {
   "cell_type": "code",
   "execution_count": 40,
   "metadata": {},
   "outputs": [
    {
     "data": {
      "text/plain": [
       "array([[0. , 0. , 0.5],\n",
       "       [0. , 0. , 0. ],\n",
       "       [0.5, 0. , 0. ]])"
      ]
     },
     "execution_count": 40,
     "metadata": {},
     "output_type": "execute_result"
    }
   ],
   "source": [
    "np.abs(U[:,1,:,1])**2"
   ]
  },
  {
   "cell_type": "markdown",
   "metadata": {},
   "source": [
    "We can see that the only nonzero probabilities correspond to \n",
    "the output states $|0,2\\rangle$ and $|2,0\\rangle$, which means that the photons always exit randomly, but in the same mode (i.e. from the same port of the beamsplitter). This is the essence of the Hong-Ou-Mandel effect."
   ]
  },
  {
   "cell_type": "markdown",
   "metadata": {},
   "source": [
    "# Non-unitary Channels\n",
    "If the channel is not unitary, its description is not going to be in terms of a simple unitary matrix. The reason is the following: while a unitary transformation $U: \\mathcal{H}\\rightarrow\\mathcal{H}$ acts directly on state _vectors_ (i.e. the elements of the Hilbert space $\\mathcal{H}$), a non-unitary channel $\\mathcal{C}: B(\\mathcal{H})\\rightarrow B(\\mathcal{H})$ is a more general transformation that acts on density _matrices_ (where $\\mathcal{B}(\\mathcal{H})$ is the space of bounded linear operators on $\\mathcal{H}$). \n",
    "\n",
    "As a consequence, our modes will now be populated by states expressed by density matrices instead of vectors (and therefore technically each mode really corresponds to 2 copies of a Hilbert space because $B(\\mathcal H)\\simeq \\mathcal{H}\\otimes\\mathcal{H}$, but this is celverly swept under the rug in Strawberry Fields)."
   ]
  },
  {
   "cell_type": "markdown",
   "metadata": {},
   "source": [
    "### Kraus, Liouville and Choi representations\n",
    "We now need to pick a channel representation and then extract it with another Choi-Jamiolkowsky trick. We have several choices of channel representation among Kraus, Liouville and Choi. We will omit the Stinespring representation for now, but we invite the interested reader to have a look at [this work](https://arxiv.org/abs/1111.6950) for illuminating details of all channel representations in a pleasing graphical representation.\n",
    "\n",
    "Let's see how to obtain the Choi and Liovuille operators from the Kraus matrices.\n",
    "The way a channel operates on a density matrix $\\rho_{ij}^\\mathrm{input}$ can be expressed with a set of Kraus operators $A_{ij,k}$, where each Kraus operator is a matrix indexed by $ij$ and where each matrix in the set is indexed through the index $k$ (hence the comma to stress the difference of status between the indices). We compute the action of the cannel by sandwiching the input density matrix between the Kraus operators and then we sum over all sandwiches (which, recall, are indexed by $k$):\n",
    "\n",
    "$$\\rho_{im}^\\mathrm{output} = A_{ij,k}\\rho_{jl}^\\mathrm{input}A_{lm,k}^\\dagger$$\n",
    "\n",
    "where $A_{lm,k}^\\dagger = A_{ml,k}^*$ (i.e. $\\dagger$ indicates the conjugate-transpose and ${}^*$ indicates just the conjugation).\n",
    "The Choi operator is essentially the sum of the Kraus sandwiches without the filling and with the appropriate index order:\n",
    "\n",
    "$$J_{jlim} = A_{ij,k}\\ A_{ml,k}^*$$\n",
    "\n",
    "Incidentally, the Liouville operator is also given by the sandwiches without the filling, but with a different index order:\n",
    "$L_{mlij} = A_{ij,k}\\ A_{ml,k}^*$.\n",
    "\n",
    "We can use the identity trick again to extract the Choi operator $J$ in Strawberry Fields: $$J_{abij} = A_{ic,k}I_{ac}I_{bd}\\ A_{jd,k}^*$$\n",
    "\n",
    "The desired index order is automatically enforced by Strawberry Fields if we apply the channel on the second mode (indexed by $c$ and $d$), so that the indices of the first mode $a$ and $b$ appear before $i$ and $j$.\n",
    "\n",
    "### Equivalence of the representations\n",
    "Using any of the operators to express a quantum channel is exactly equivalent. This is especially clear when expressing the contractions with tensor index notation:\n",
    "\n",
    "$$\\rho_{im}^\\mathrm{output} = \\rho_{jl}^\\mathrm{input}J_{jlim} = \\rho_{jl}^\\mathrm{input}L_{mlij}=A_{ij,k}\\rho_{jl}^\\mathrm{input}A_{ml,k}^*$$\n",
    "\n",
    "Instead, when we want to write the same operations in \"regular\" notation we may encounter some oddities, for example in the formula of the Choi representation of a channel the input state is transposed:\n",
    "\n",
    "$$\\rho_B^\\mathrm{output} = \\mathrm{Tr}_A[(\\rho^T_A\\otimes I_B)J_{AB}]$$\n",
    "\n",
    "This is a simple consequence of how the indices are arranged, but it may be confusing at first sight. In case of the Liouville representation, we must 'vectorize' and 'unvectorize' the density matrix:\n",
    "\n",
    "$$\\rho^\\mathrm{output} = \\mathrm{unvec}(L\\ \\mathrm{vec}(\\rho^\\mathrm{input}))$$\n",
    "\n",
    "At this point we hope you can see the advantage of working with tensor indices! 😄"
   ]
  },
  {
   "cell_type": "markdown",
   "metadata": {},
   "source": [
    "## Single-mode example: lossy bosonic channel\n",
    "Here we reproduce in code what we presented above, and we will see how to compute the representation of a quantum channel in Strowberry Fields."
   ]
  },
  {
   "cell_type": "code",
   "execution_count": 41,
   "metadata": {},
   "outputs": [],
   "source": [
    "dim = 10\n",
    "prog = sf.Program(num_subsystems=2)\n",
    "I = np.einsum('ac,bd', np.identity(dim), np.identity(dim)) # notice the order of the indices\n",
    "\n",
    "with prog.context as q:\n",
    "    ops.DensityMatrix(I) | q\n",
    "    ops.LossChannel(0.9) | q[1] # 10% lossy channel on mode B\n",
    "\n",
    "eng = sf.LocalEngine(backend='fock', backend_options={'cutoff_dim': dim})\n",
    "J = eng.run(prog).state.data # Choi operator\n",
    "\n",
    "L = np.einsum('abcd->dbca', J) # Liouville operator"
   ]
  },
  {
   "cell_type": "markdown",
   "metadata": {},
   "source": [
    "This whole functionality has been implemented since Strawberry Fields v0.10.0 as utility functions, with no need to add modes or to think of tensor indices or contractions:"
   ]
  },
  {
   "cell_type": "code",
   "execution_count": 42,
   "metadata": {},
   "outputs": [],
   "source": [
    "from strawberryfields.utils import extract_channel"
   ]
  },
  {
   "cell_type": "markdown",
   "metadata": {},
   "source": [
    "Let's prove that we have succesfully extracted the Choi and the Liouville representation of a channel"
   ]
  },
  {
   "cell_type": "code",
   "execution_count": 43,
   "metadata": {},
   "outputs": [
    {
     "name": "stdout",
     "output_type": "stream",
     "text": [
      "True\n",
      "True\n"
     ]
    }
   ],
   "source": [
    "prog = sf.Program(num_subsystems=1)\n",
    "with prog.context as q:\n",
    "    ops.LossChannel(0.9) | q\n",
    "    \n",
    "print(np.allclose(extract_channel(prog, cutoff_dim=dim, representation = 'choi') - J, 0))\n",
    "print(np.allclose(extract_channel(prog, cutoff_dim=dim, representation = 'liouville') - L, 0))"
   ]
  },
  {
   "cell_type": "markdown",
   "metadata": {},
   "source": [
    "## Conclusion\n",
    "\n",
    "The Choi-Jamiolkowsky isomorphism (aka channel-state duality) is a theoretical result that can find very interesting applications, such as gate teleportation and expressing properties of Bayesian quantum states. However, it's not very common to witness a practical use for it. Here we have seen how Strawberry Fields exploits the CJ isomorphism to obtain a numerical representation of unitary and non-unitary quantum channels."
   ]
  },
  {
   "cell_type": "markdown",
   "metadata": {},
   "source": [
    "## Bibliography\n",
    "\n",
    "[1] [\"Channel state duality\" PRA 87, 022310 (2013)](https://journals.aps.org/pra/abstract/10.1103/PhysRevA.87.022310)\n",
    "\n",
    "[2] [Program functions in Strawberry Fields](https://strawberryfields.readthedocs.io/en/latest/code/utils.html?strawberryfields.utils.extract_unitary#program-functions)\n",
    "\n",
    "[3] [Matt Leifer's post on the CJ iso](http://mattleifer.info/2011/08/01/the-choi-jamiolkowski-isomorphism-youre-doing-it-wrong/)"
   ]
  }
 ],
 "metadata": {
  "kernelspec": {
   "display_name": "Python 3",
   "language": "python",
   "name": "python3"
  },
  "language_info": {
   "codemirror_mode": {
    "name": "ipython",
    "version": 3
   },
   "file_extension": ".py",
   "mimetype": "text/x-python",
   "name": "python",
   "nbconvert_exporter": "python",
   "pygments_lexer": "ipython3",
   "version": "3.7.3"
  }
 },
 "nbformat": 4,
 "nbformat_minor": 2
}
